{
 "cells": [
  {
   "cell_type": "markdown",
   "metadata": {},
   "source": [
    "# Web Scraping Lab\n",
    "\n",
    "You will find in this notebook some scrapy exercises to practise your scraping skills.\n",
    "\n",
    "**Tips:**\n",
    "\n",
    "- Check the response status code for each request to ensure you have obtained the intended contennt.\n",
    "- Print the response text in each request to understand the kind of info you are getting and its format.\n",
    "- Check for patterns in the response text to extract the data/info requested in each question.\n",
    "- Visit each url and take a look at its source through Chrome DevTools. You'll need to identify the html tags, special class names etc. used for the html content you are expected to extract."
   ]
  },
  {
   "cell_type": "markdown",
   "metadata": {},
   "source": [
    "- [Requests library](http://docs.python-requests.org/en/master/#the-user-guide) documentation \n",
    "- [Beautiful Soup Doc](https://www.crummy.com/software/BeautifulSoup/bs4/doc/)\n",
    "- [Urllib](https://docs.python.org/3/library/urllib.html#module-urllib)\n",
    "- [re lib](https://docs.python.org/3/library/re.html)\n",
    "- [lxml lib](https://lxml.de/)\n",
    "- [Scrapy](https://scrapy.org/)\n",
    "- [List of HTTP status codes](https://en.wikipedia.org/wiki/List_of_HTTP_status_codes)\n",
    "- [HTML basics](http://www.simplehtmlguide.com/cheatsheet.php)\n",
    "- [CSS basics](https://www.cssbasics.com/#page_start)"
   ]
  },
  {
   "cell_type": "markdown",
   "metadata": {},
   "source": [
    "#### Below are the libraries and modules you may need. `requests`,  `BeautifulSoup` and `pandas` are imported for you. If you prefer to use additional libraries feel free to uncomment them."
   ]
  },
  {
   "cell_type": "code",
   "execution_count": 1,
   "metadata": {},
   "outputs": [],
   "source": [
    "import requests\n",
    "from bs4 import BeautifulSoup\n",
    "import pandas as pd\n",
    "# from pprint import pprint\n",
    "# from lxml import html\n",
    "# from lxml.html import fromstring\n",
    "# import urllib.request\n",
    "# from urllib.request import urlopen\n",
    "# import random\n",
    "import re\n",
    "# import scrapy"
   ]
  },
  {
   "cell_type": "markdown",
   "metadata": {},
   "source": [
    "#### Download, parse (using BeautifulSoup), and print the content from the Trending Developers page from GitHub:"
   ]
  },
  {
   "cell_type": "code",
   "execution_count": null,
   "metadata": {},
   "outputs": [],
   "source": [
    "# This is the url you will scrape in this exercise\n",
    "url = 'https://github.com/trending/developers'"
   ]
  },
  {
   "cell_type": "code",
   "execution_count": null,
   "metadata": {},
   "outputs": [],
   "source": [
    "#your code\n",
    "html = requests.get(url).content\n",
    "soup = BeautifulSoup(html, 'lxml')\n",
    "soup"
   ]
  },
  {
   "cell_type": "markdown",
   "metadata": {},
   "source": [
    "#### Display the names of the trending developers retrieved in the previous step.\n",
    "\n",
    "Your output should be a Python list of developer names. Each name should not contain any html tag.\n",
    "\n",
    "**Instructions:**\n",
    "\n",
    "1. Find out the html tag and class names used for the developer names. You can achieve this using Chrome DevTools.\n",
    "\n",
    "1. Use BeautifulSoup to extract all the html elements that contain the developer names.\n",
    "\n",
    "1. Use string manipulation techniques to replace whitespaces and linebreaks (i.e. `\\n`) in the *text* of each html element. Use a list to store the clean names.\n",
    "\n",
    "1. Print the list of names.\n",
    "\n",
    "Your output should look like below:\n",
    "\n",
    "```\n",
    "['trimstray (@trimstray)',\n",
    " 'joewalnes (JoeWalnes)',\n",
    " 'charlax (Charles-AxelDein)',\n",
    " 'ForrestKnight (ForrestKnight)',\n",
    " 'revery-ui (revery-ui)',\n",
    " 'alibaba (Alibaba)',\n",
    " 'Microsoft (Microsoft)',\n",
    " 'github (GitHub)',\n",
    " 'facebook (Facebook)',\n",
    " 'boazsegev (Bo)',\n",
    " 'google (Google)',\n",
    " 'cloudfetch',\n",
    " 'sindresorhus (SindreSorhus)',\n",
    " 'tensorflow',\n",
    " 'apache (TheApacheSoftwareFoundation)',\n",
    " 'DevonCrawford (DevonCrawford)',\n",
    " 'ARMmbed (ArmMbed)',\n",
    " 'vuejs (vuejs)',\n",
    " 'fastai (fast.ai)',\n",
    " 'QiShaoXuan (Qi)',\n",
    " 'joelparkerhenderson (JoelParkerHenderson)',\n",
    " 'torvalds (LinusTorvalds)',\n",
    " 'CyC2018',\n",
    " 'komeiji-satori (神楽坂覚々)',\n",
    " 'script-8']\n",
    " ```"
   ]
  },
  {
   "cell_type": "code",
   "execution_count": null,
   "metadata": {},
   "outputs": [],
   "source": [
    "devs_names = soup.select('h1[class=\"h3 lh-condensed\"]  a[data-hydro-click]')\n",
    "devsn_clean = [element.text.strip() for element in devs_names]\n",
    "#devsn_clean\n",
    "\n",
    "devs_users  = soup.select('p[class=\"f4 text-normal mb-1\"]  a[class]')\n",
    "devsu_clean = [element.text.strip() for element in devs_users]\n",
    "#devsu_clean\n",
    "\n",
    "developers = []\n",
    "for n, u in zip(devsn_clean, devsu_clean):\n",
    "    developers.append(n + ' (' + u + ')')\n",
    "\n",
    "developers"
   ]
  },
  {
   "cell_type": "markdown",
   "metadata": {},
   "source": [
    "#### Display the trending Python repositories in GitHub\n",
    "\n",
    "The steps to solve this problem is similar to the previous one except that you need to find out the repository names instead of developer names."
   ]
  },
  {
   "cell_type": "code",
   "execution_count": null,
   "metadata": {},
   "outputs": [],
   "source": [
    "# This is the url you will scrape in this exercise\n",
    "url = 'https://github.com/trending/python?since=daily'"
   ]
  },
  {
   "cell_type": "code",
   "execution_count": null,
   "metadata": {},
   "outputs": [],
   "source": [
    "#your code\n",
    "htmlReps = requests.get(url).content\n",
    "soupReps = BeautifulSoup(htmlReps, 'lxml')\n",
    "\n",
    "repos_name = soupReps.select('h1[class=\"h3 lh-condensed\"] a[data-hydro-click]')\n",
    "elements = [element.text.strip().replace('\\n\\n      ',' ') for element in repos_name]\n",
    "elements"
   ]
  },
  {
   "cell_type": "markdown",
   "metadata": {},
   "source": [
    "#### Display all the image links from Walt Disney wikipedia page"
   ]
  },
  {
   "cell_type": "code",
   "execution_count": null,
   "metadata": {},
   "outputs": [],
   "source": [
    "# This is the url you will scrape in this exercise\n",
    "url = 'https://en.wikipedia.org/wiki/Walt_Disney'"
   ]
  },
  {
   "cell_type": "code",
   "execution_count": null,
   "metadata": {},
   "outputs": [],
   "source": [
    "#your code\n",
    "htmlWD = requests.get(url).content\n",
    "soupWD = BeautifulSoup(htmlWD, 'lxml')\n",
    "\n",
    "image_WD = soupWD.select('a[class=\"image\"]')\n",
    "\n",
    "images = [image_WD[i]['href'].replace('/wiki/File:','') for i in range(len(image_WD))]\n",
    "images"
   ]
  },
  {
   "cell_type": "markdown",
   "metadata": {},
   "source": [
    "#### Retrieve an arbitary Wikipedia page of \"Python\" and create a list of links on that page"
   ]
  },
  {
   "cell_type": "code",
   "execution_count": null,
   "metadata": {},
   "outputs": [],
   "source": [
    "# This is the url you will scrape in this exercise\n",
    "url ='https://en.wikipedia.org/wiki/Python' "
   ]
  },
  {
   "cell_type": "code",
   "execution_count": null,
   "metadata": {},
   "outputs": [],
   "source": [
    "#your code\n",
    "htmlPy = requests.get(url).content\n",
    "soupPy = BeautifulSoup(htmlPy, 'lxml')\n",
    "#soupPy\n",
    "linksPy = soupPy('a')\n",
    "linksPython = []\n",
    "for tag in linksPy:\n",
    "    response  = re.match('(\\D+)Python(\\D+)',str(tag.get('href')))\n",
    "    if response != None:\n",
    "        #linksPython.append(response.group())\n",
    "        if response.group().startswith('https') > 0 or response.group().startswith('//') > 0:\n",
    "            linksPython.append(response.group())\n",
    "        else:\n",
    "            linksPython.append('https://en.wikipedia.org' + response.group())\n",
    "    \n",
    "#linksPython"
   ]
  },
  {
   "cell_type": "markdown",
   "metadata": {},
   "source": [
    "#### Number of Titles that have changed in the United States Code since its last release point "
   ]
  },
  {
   "cell_type": "code",
   "execution_count": null,
   "metadata": {},
   "outputs": [],
   "source": [
    "# This is the url you will scrape in this exercise\n",
    "url = 'http://uscode.house.gov/download/download.shtml'"
   ]
  },
  {
   "cell_type": "code",
   "execution_count": null,
   "metadata": {},
   "outputs": [],
   "source": [
    "#your code\n",
    "htmlUS = requests.get(url).content\n",
    "soupUS = BeautifulSoup(htmlUS, 'lxml')\n",
    "\n",
    "titles_US = soupUS.select('div[class=\"uscitem\"] div[id]')\n",
    "#titles_US\n",
    "titles = [element.text for element in titles_US]\n",
    "titles_US = [element.strip().replace(' ٭','') for element in titles if element.strip().startswith('Title') ]\n",
    "titles_US"
   ]
  },
  {
   "cell_type": "markdown",
   "metadata": {},
   "source": [
    "#### A Python list with the top ten FBI's Most Wanted names "
   ]
  },
  {
   "cell_type": "code",
   "execution_count": null,
   "metadata": {},
   "outputs": [],
   "source": [
    "# This is the url you will scrape in this exercise\n",
    "url = 'https://www.fbi.gov/wanted/topten'"
   ]
  },
  {
   "cell_type": "code",
   "execution_count": null,
   "metadata": {},
   "outputs": [],
   "source": [
    "#your code \n",
    "htmlFBI = requests.get(url).content\n",
    "soupFBI = BeautifulSoup(htmlFBI, 'lxml')\n",
    "\n",
    "mw_list = soupFBI.select('h3[class=\"title\"] a[href]')\n",
    "\n",
    "mostWanted = [mw.text for mw in mw_list]\n",
    "mostWanted"
   ]
  },
  {
   "cell_type": "markdown",
   "metadata": {},
   "source": [
    "####  20 latest earthquakes info (date, time, latitude, longitude and region name) by the EMSC as a pandas dataframe"
   ]
  },
  {
   "cell_type": "code",
   "execution_count": 2,
   "metadata": {},
   "outputs": [],
   "source": [
    "# This is the url you will scrape in this exercise\n",
    "url = 'https://www.emsc-csem.org/Earthquake/'"
   ]
  },
  {
   "cell_type": "code",
   "execution_count": 20,
   "metadata": {},
   "outputs": [
    {
     "data": {
      "text/plain": [
       "['S',\n",
       " 'W',\n",
       " '3.5',\n",
       " 'N',\n",
       " 'E',\n",
       " '3.0',\n",
       " 'N',\n",
       " 'W',\n",
       " '2.8',\n",
       " 'N',\n",
       " 'W',\n",
       " '2.7',\n",
       " 'N',\n",
       " 'W',\n",
       " '2.3',\n",
       " 'S',\n",
       " 'W',\n",
       " '2.9',\n",
       " 'S',\n",
       " 'W',\n",
       " '3.2',\n",
       " 'S',\n",
       " 'W',\n",
       " '3.3',\n",
       " 'S',\n",
       " 'W',\n",
       " '3.1',\n",
       " 'S',\n",
       " 'E',\n",
       " '4.0',\n",
       " 'N',\n",
       " 'E',\n",
       " '3.1',\n",
       " 'N',\n",
       " 'W',\n",
       " '2.1',\n",
       " 'N',\n",
       " 'E',\n",
       " '2.4',\n",
       " 'N',\n",
       " 'E',\n",
       " '3.0',\n",
       " 'N',\n",
       " 'W',\n",
       " '2.7',\n",
       " 'N',\n",
       " 'W',\n",
       " '4.3',\n",
       " 'N',\n",
       " 'W',\n",
       " '2.6',\n",
       " 'N',\n",
       " 'W',\n",
       " '2.6',\n",
       " 'N',\n",
       " 'E',\n",
       " '3.9',\n",
       " 'N',\n",
       " 'W',\n",
       " '3.2',\n",
       " 'N',\n",
       " 'E',\n",
       " '2.2',\n",
       " 'S',\n",
       " 'E',\n",
       " '2.9',\n",
       " 'N',\n",
       " 'E',\n",
       " '2.2',\n",
       " 'S',\n",
       " 'W',\n",
       " '3.0',\n",
       " 'N',\n",
       " 'W',\n",
       " '3.0',\n",
       " 'N',\n",
       " 'W',\n",
       " '2.4',\n",
       " 'S',\n",
       " 'W',\n",
       " '4.0',\n",
       " 'N',\n",
       " 'W',\n",
       " '2.3',\n",
       " 'N',\n",
       " 'E',\n",
       " '2.3',\n",
       " 'N',\n",
       " 'W',\n",
       " '2.3',\n",
       " 'N',\n",
       " 'W',\n",
       " '3.6',\n",
       " 'S',\n",
       " 'E',\n",
       " '3.9',\n",
       " 'N',\n",
       " 'E',\n",
       " '3.1',\n",
       " 'N',\n",
       " 'W',\n",
       " '2.4',\n",
       " 'N',\n",
       " 'W',\n",
       " '3.9',\n",
       " 'N',\n",
       " 'W',\n",
       " '3.6',\n",
       " 'S',\n",
       " 'W',\n",
       " '4.4',\n",
       " 'N',\n",
       " 'W',\n",
       " '3.9',\n",
       " 'N',\n",
       " 'E',\n",
       " '4.7',\n",
       " 'N',\n",
       " 'E',\n",
       " '4.3',\n",
       " 'N',\n",
       " 'W',\n",
       " '3.2',\n",
       " 'N',\n",
       " 'E',\n",
       " '3.5',\n",
       " 'N',\n",
       " 'W',\n",
       " '3.6',\n",
       " 'N',\n",
       " 'W',\n",
       " '2.2',\n",
       " 'S',\n",
       " 'W',\n",
       " '4.2',\n",
       " 'N',\n",
       " 'W',\n",
       " '2.0',\n",
       " 'N',\n",
       " 'W',\n",
       " '2.9',\n",
       " 'N',\n",
       " 'W',\n",
       " '2.7',\n",
       " 'N',\n",
       " 'W',\n",
       " '2.6',\n",
       " 'N',\n",
       " 'W',\n",
       " '3.9']"
      ]
     },
     "execution_count": 20,
     "metadata": {},
     "output_type": "execute_result"
    }
   ],
   "source": [
    "#your code\n",
    "htmlEQ = requests.get(url).content\n",
    "soupEQ = BeautifulSoup(htmlEQ, 'lxml')\n",
    "#child = soup.select('tr[class=\"sidebarInTheaterOpening\"] > td:nth-child(2)')\n",
    "eq_dt = soupEQ.select('td[class=\"tabev6\"] a[href]')\n",
    "\n",
    "eq_datetime = [eq.text.replace(u'\\xa0',u' ')  for eq in eq_dt]\n",
    "#eq_datetime\n",
    "\n",
    "eq_degrees = soupEQ.select('td[class=\"tabev1\"]')\n",
    "eq_latitud  = [eq_degrees[l].text.replace(u'\\xa0',u'') for l in range(len(eq_degrees)) if l%2 == 0 ]\n",
    "eq_longitud = [eq_degrees[l].text.replace(u'\\xa0',u'') for l in range(len(eq_degrees)) if l%2 == 1 ]\n",
    "\n",
    "eq_cardinal = soupEQ.select('td[class=\"tabev2\"]')\n",
    "eq_Cardinals = [eq_cardinal[l].text.replace(u'\\xa0',u'') for l in range(len(eq_cardinal))]\n",
    "#eq_Cardinals\n",
    "eq_latCard = []\n",
    "eq_lonCard = []\n",
    "cont = 0\n",
    "for i in eq_Cardinals:\n",
    "    if cont == 0:\n",
    "        eq_latCard.append(eq_Cardinals[i])\n",
    "        cont += 1\n",
    "    elif cont == 1:\n",
    "        eq_lonCard.append(eq_Cardinals[i])\n",
    "        cont += 1\n",
    "    elif cont == 2:\n",
    "        cont = 0\n",
    "        \n",
    "eq_latCard"
   ]
  },
  {
   "cell_type": "markdown",
   "metadata": {},
   "source": [
    "#### Display the date, days, title, city, country of next 25 hackathon events as a Pandas dataframe table"
   ]
  },
  {
   "cell_type": "code",
   "execution_count": null,
   "metadata": {},
   "outputs": [],
   "source": [
    "# This is the url you will scrape in this exercise\n",
    "url ='https://hackevents.co/hackathons'"
   ]
  },
  {
   "cell_type": "code",
   "execution_count": null,
   "metadata": {},
   "outputs": [],
   "source": [
    "#your code"
   ]
  },
  {
   "cell_type": "markdown",
   "metadata": {},
   "source": [
    "#### Count number of tweets by a given Twitter account."
   ]
  },
  {
   "cell_type": "markdown",
   "metadata": {},
   "source": [
    "You will need to include a ***try/except block*** for account names not found. \n",
    "<br>***Hint:*** the program should count the number of tweets for any provided account"
   ]
  },
  {
   "cell_type": "code",
   "execution_count": null,
   "metadata": {},
   "outputs": [],
   "source": [
    "# This is the url you will scrape in this exercise \n",
    "# You will need to add the account credentials to this url\n",
    "url = 'https://twitter.com/'"
   ]
  },
  {
   "cell_type": "code",
   "execution_count": null,
   "metadata": {},
   "outputs": [],
   "source": [
    "#your code"
   ]
  },
  {
   "cell_type": "markdown",
   "metadata": {},
   "source": [
    "#### Number of followers of a given twitter account"
   ]
  },
  {
   "cell_type": "markdown",
   "metadata": {},
   "source": [
    "You will need to include a ***try/except block*** in case account/s name not found. \n",
    "<br>***Hint:*** the program should count the followers for any provided account"
   ]
  },
  {
   "cell_type": "code",
   "execution_count": null,
   "metadata": {},
   "outputs": [],
   "source": [
    "# This is the url you will scrape in this exercise \n",
    "# You will need to add the account credentials to this url\n",
    "url = 'https://twitter.com/'"
   ]
  },
  {
   "cell_type": "code",
   "execution_count": null,
   "metadata": {},
   "outputs": [],
   "source": [
    "#your code"
   ]
  },
  {
   "cell_type": "markdown",
   "metadata": {},
   "source": [
    "#### List all language names and number of related articles in the order they appear in wikipedia.org"
   ]
  },
  {
   "cell_type": "code",
   "execution_count": null,
   "metadata": {},
   "outputs": [],
   "source": [
    "# This is the url you will scrape in this exercise\n",
    "url = 'https://www.wikipedia.org/'"
   ]
  },
  {
   "cell_type": "code",
   "execution_count": null,
   "metadata": {},
   "outputs": [],
   "source": [
    "#your code"
   ]
  },
  {
   "cell_type": "markdown",
   "metadata": {},
   "source": [
    "#### A list with the different kind of datasets available in data.gov.uk "
   ]
  },
  {
   "cell_type": "code",
   "execution_count": null,
   "metadata": {},
   "outputs": [],
   "source": [
    "# This is the url you will scrape in this exercise\n",
    "url = 'https://data.gov.uk/'"
   ]
  },
  {
   "cell_type": "code",
   "execution_count": null,
   "metadata": {},
   "outputs": [],
   "source": [
    "#your code "
   ]
  },
  {
   "cell_type": "markdown",
   "metadata": {},
   "source": [
    "#### Top 10 languages by number of native speakers stored in a Pandas Dataframe"
   ]
  },
  {
   "cell_type": "code",
   "execution_count": null,
   "metadata": {},
   "outputs": [],
   "source": [
    "# This is the url you will scrape in this exercise\n",
    "url = 'https://en.wikipedia.org/wiki/List_of_languages_by_number_of_native_speakers'"
   ]
  },
  {
   "cell_type": "code",
   "execution_count": null,
   "metadata": {},
   "outputs": [],
   "source": [
    "#your code"
   ]
  },
  {
   "cell_type": "markdown",
   "metadata": {},
   "source": [
    "### BONUS QUESTIONS"
   ]
  },
  {
   "cell_type": "markdown",
   "metadata": {},
   "source": [
    "#### Scrape a certain number of tweets of a given Twitter account."
   ]
  },
  {
   "cell_type": "code",
   "execution_count": null,
   "metadata": {},
   "outputs": [],
   "source": [
    "# This is the url you will scrape in this exercise \n",
    "# You will need to add the account credentials to this url\n",
    "url = 'https://twitter.com/'"
   ]
  },
  {
   "cell_type": "code",
   "execution_count": null,
   "metadata": {},
   "outputs": [],
   "source": [
    "# your code"
   ]
  },
  {
   "cell_type": "markdown",
   "metadata": {},
   "source": [
    "#### IMDB's Top 250 data (movie name, Initial release, director name and stars) as a pandas dataframe"
   ]
  },
  {
   "cell_type": "code",
   "execution_count": null,
   "metadata": {},
   "outputs": [],
   "source": [
    "# This is the url you will scrape in this exercise \n",
    "url = 'https://www.imdb.com/chart/top'"
   ]
  },
  {
   "cell_type": "code",
   "execution_count": null,
   "metadata": {},
   "outputs": [],
   "source": [
    "# your code"
   ]
  },
  {
   "cell_type": "markdown",
   "metadata": {},
   "source": [
    "#### Movie name, year and a brief summary of the top 10 random movies (IMDB) as a pandas dataframe."
   ]
  },
  {
   "cell_type": "code",
   "execution_count": null,
   "metadata": {},
   "outputs": [],
   "source": [
    "#This is the url you will scrape in this exercise\n",
    "url = 'http://www.imdb.com/chart/top'"
   ]
  },
  {
   "cell_type": "code",
   "execution_count": null,
   "metadata": {},
   "outputs": [],
   "source": [
    "#your code"
   ]
  },
  {
   "cell_type": "markdown",
   "metadata": {},
   "source": [
    "#### Find the live weather report (temperature, wind speed, description and weather) of a given city."
   ]
  },
  {
   "cell_type": "code",
   "execution_count": null,
   "metadata": {},
   "outputs": [],
   "source": [
    "#https://openweathermap.org/current\n",
    "city = city=input('Enter the city:')\n",
    "url = 'http://api.openweathermap.org/data/2.5/weather?'+'q='+city+'&APPID=b35975e18dc93725acb092f7272cc6b8&units=metric'"
   ]
  },
  {
   "cell_type": "code",
   "execution_count": null,
   "metadata": {},
   "outputs": [],
   "source": [
    "# your code"
   ]
  },
  {
   "cell_type": "markdown",
   "metadata": {},
   "source": [
    "#### Book name,price and stock availability as a pandas dataframe."
   ]
  },
  {
   "cell_type": "code",
   "execution_count": null,
   "metadata": {},
   "outputs": [],
   "source": [
    "# This is the url you will scrape in this exercise. \n",
    "# It is a fictional bookstore created to be scraped. \n",
    "url = 'http://books.toscrape.com/'"
   ]
  },
  {
   "cell_type": "code",
   "execution_count": null,
   "metadata": {},
   "outputs": [],
   "source": [
    "#your code"
   ]
  }
 ],
 "metadata": {
  "kernelspec": {
   "display_name": "Python 3",
   "language": "python",
   "name": "python3"
  },
  "language_info": {
   "codemirror_mode": {
    "name": "ipython",
    "version": 3
   },
   "file_extension": ".py",
   "mimetype": "text/x-python",
   "name": "python",
   "nbconvert_exporter": "python",
   "pygments_lexer": "ipython3",
   "version": "3.8.5"
  }
 },
 "nbformat": 4,
 "nbformat_minor": 2
}
