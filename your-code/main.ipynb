{
 "cells": [
  {
   "cell_type": "markdown",
   "metadata": {},
   "source": [
    "# Web Scraping Lab\n",
    "\n",
    "You will find in this notebook some scrapy exercises to practise your scraping skills.\n",
    "\n",
    "**Tips:**\n",
    "\n",
    "- Check the response status code for each request to ensure you have obtained the intended contennt.\n",
    "- Print the response text in each request to understand the kind of info you are getting and its format.\n",
    "- Check for patterns in the response text to extract the data/info requested in each question.\n",
    "- Visit each url and take a look at its source through Chrome DevTools. You'll need to identify the html tags, special class names etc. used for the html content you are expected to extract."
   ]
  },
  {
   "cell_type": "markdown",
   "metadata": {},
   "source": [
    "- [Requests library](http://docs.python-requests.org/en/master/#the-user-guide) documentation \n",
    "- [Beautiful Soup Doc](https://www.crummy.com/software/BeautifulSoup/bs4/doc/)\n",
    "- [Urllib](https://docs.python.org/3/library/urllib.html#module-urllib)\n",
    "- [re lib](https://docs.python.org/3/library/re.html)\n",
    "- [lxml lib](https://lxml.de/)\n",
    "- [Scrapy](https://scrapy.org/)\n",
    "- [List of HTTP status codes](https://en.wikipedia.org/wiki/List_of_HTTP_status_codes)\n",
    "- [HTML basics](http://www.simplehtmlguide.com/cheatsheet.php)\n",
    "- [CSS basics](https://www.cssbasics.com/#page_start)"
   ]
  },
  {
   "cell_type": "markdown",
   "metadata": {},
   "source": [
    "#### Below are the libraries and modules you may need. `requests`,  `BeautifulSoup` and `pandas` are imported for you. If you prefer to use additional libraries feel free to uncomment them."
   ]
  },
  {
   "cell_type": "code",
   "execution_count": 1,
   "metadata": {},
   "outputs": [],
   "source": [
    "import requests\n",
    "from bs4 import BeautifulSoup\n",
    "import pandas as pd\n",
    "# from pprint import pprint\n",
    "# from lxml import html\n",
    "# from lxml.html import fromstring\n",
    "# import urllib.request\n",
    "# from urllib.request import urlopen\n",
    "# import random\n",
    "import re\n",
    "# import scrapy"
   ]
  },
  {
   "cell_type": "markdown",
   "metadata": {},
   "source": [
    "#### Download, parse (using BeautifulSoup), and print the content from the Trending Developers page from GitHub:"
   ]
  },
  {
   "cell_type": "code",
   "execution_count": null,
   "metadata": {},
   "outputs": [],
   "source": [
    "# This is the url you will scrape in this exercise\n",
    "url = 'https://github.com/trending/developers'"
   ]
  },
  {
   "cell_type": "code",
   "execution_count": null,
   "metadata": {},
   "outputs": [],
   "source": [
    "#your code\n",
    "html = requests.get(url).content\n",
    "soup = BeautifulSoup(html, 'lxml')\n",
    "soup"
   ]
  },
  {
   "cell_type": "markdown",
   "metadata": {},
   "source": [
    "#### Display the names of the trending developers retrieved in the previous step.\n",
    "\n",
    "Your output should be a Python list of developer names. Each name should not contain any html tag.\n",
    "\n",
    "**Instructions:**\n",
    "\n",
    "1. Find out the html tag and class names used for the developer names. You can achieve this using Chrome DevTools.\n",
    "\n",
    "1. Use BeautifulSoup to extract all the html elements that contain the developer names.\n",
    "\n",
    "1. Use string manipulation techniques to replace whitespaces and linebreaks (i.e. `\\n`) in the *text* of each html element. Use a list to store the clean names.\n",
    "\n",
    "1. Print the list of names.\n",
    "\n",
    "Your output should look like below:\n",
    "\n",
    "```\n",
    "['trimstray (@trimstray)',\n",
    " 'joewalnes (JoeWalnes)',\n",
    " 'charlax (Charles-AxelDein)',\n",
    " 'ForrestKnight (ForrestKnight)',\n",
    " 'revery-ui (revery-ui)',\n",
    " 'alibaba (Alibaba)',\n",
    " 'Microsoft (Microsoft)',\n",
    " 'github (GitHub)',\n",
    " 'facebook (Facebook)',\n",
    " 'boazsegev (Bo)',\n",
    " 'google (Google)',\n",
    " 'cloudfetch',\n",
    " 'sindresorhus (SindreSorhus)',\n",
    " 'tensorflow',\n",
    " 'apache (TheApacheSoftwareFoundation)',\n",
    " 'DevonCrawford (DevonCrawford)',\n",
    " 'ARMmbed (ArmMbed)',\n",
    " 'vuejs (vuejs)',\n",
    " 'fastai (fast.ai)',\n",
    " 'QiShaoXuan (Qi)',\n",
    " 'joelparkerhenderson (JoelParkerHenderson)',\n",
    " 'torvalds (LinusTorvalds)',\n",
    " 'CyC2018',\n",
    " 'komeiji-satori (神楽坂覚々)',\n",
    " 'script-8']\n",
    " ```"
   ]
  },
  {
   "cell_type": "code",
   "execution_count": null,
   "metadata": {},
   "outputs": [],
   "source": [
    "devs_names = soup.select('h1[class=\"h3 lh-condensed\"]  a[data-hydro-click]')\n",
    "devsn_clean = [element.text.strip() for element in devs_names]\n",
    "#devsn_clean\n",
    "\n",
    "devs_users  = soup.select('p[class=\"f4 text-normal mb-1\"]  a[class]')\n",
    "devsu_clean = [element.text.strip() for element in devs_users]\n",
    "#devsu_clean\n",
    "\n",
    "developers = []\n",
    "for n, u in zip(devsn_clean, devsu_clean):\n",
    "    developers.append(n + ' (' + u + ')')\n",
    "\n",
    "developers"
   ]
  },
  {
   "cell_type": "markdown",
   "metadata": {},
   "source": [
    "#### Display the trending Python repositories in GitHub\n",
    "\n",
    "The steps to solve this problem is similar to the previous one except that you need to find out the repository names instead of developer names."
   ]
  },
  {
   "cell_type": "code",
   "execution_count": null,
   "metadata": {},
   "outputs": [],
   "source": [
    "# This is the url you will scrape in this exercise\n",
    "url = 'https://github.com/trending/python?since=daily'"
   ]
  },
  {
   "cell_type": "code",
   "execution_count": null,
   "metadata": {},
   "outputs": [],
   "source": [
    "#your code\n",
    "htmlReps = requests.get(url).content\n",
    "soupReps = BeautifulSoup(htmlReps, 'lxml')\n",
    "\n",
    "repos_name = soupReps.select('h1[class=\"h3 lh-condensed\"] a[data-hydro-click]')\n",
    "elements = [element.text.strip().replace('\\n\\n      ',' ') for element in repos_name]\n",
    "elements"
   ]
  },
  {
   "cell_type": "markdown",
   "metadata": {},
   "source": [
    "#### Display all the image links from Walt Disney wikipedia page"
   ]
  },
  {
   "cell_type": "code",
   "execution_count": null,
   "metadata": {},
   "outputs": [],
   "source": [
    "# This is the url you will scrape in this exercise\n",
    "url = 'https://en.wikipedia.org/wiki/Walt_Disney'"
   ]
  },
  {
   "cell_type": "code",
   "execution_count": null,
   "metadata": {},
   "outputs": [],
   "source": [
    "#your code\n",
    "htmlWD = requests.get(url).content\n",
    "soupWD = BeautifulSoup(htmlWD, 'lxml')\n",
    "\n",
    "image_WD = soupWD.select('a[class=\"image\"]')\n",
    "\n",
    "images = [image_WD[i]['href'].replace('/wiki/File:','') for i in range(len(image_WD))]\n",
    "images"
   ]
  },
  {
   "cell_type": "markdown",
   "metadata": {},
   "source": [
    "#### Retrieve an arbitary Wikipedia page of \"Python\" and create a list of links on that page"
   ]
  },
  {
   "cell_type": "code",
   "execution_count": null,
   "metadata": {},
   "outputs": [],
   "source": [
    "# This is the url you will scrape in this exercise\n",
    "url ='https://en.wikipedia.org/wiki/Python' "
   ]
  },
  {
   "cell_type": "code",
   "execution_count": null,
   "metadata": {},
   "outputs": [],
   "source": [
    "#your code\n",
    "htmlPy = requests.get(url).content\n",
    "soupPy = BeautifulSoup(htmlPy, 'lxml')\n",
    "#soupPy\n",
    "linksPy = soupPy('a')\n",
    "linksPython = []\n",
    "for tag in linksPy:\n",
    "    response  = re.match('(\\D+)Python(\\D+)',str(tag.get('href')))\n",
    "    if response != None:\n",
    "        #linksPython.append(response.group())\n",
    "        if response.group().startswith('https') > 0 or response.group().startswith('//') > 0:\n",
    "            linksPython.append(response.group())\n",
    "        else:\n",
    "            linksPython.append('https://en.wikipedia.org' + response.group())\n",
    "    \n",
    "#linksPython"
   ]
  },
  {
   "cell_type": "markdown",
   "metadata": {},
   "source": [
    "#### Number of Titles that have changed in the United States Code since its last release point "
   ]
  },
  {
   "cell_type": "code",
   "execution_count": null,
   "metadata": {},
   "outputs": [],
   "source": [
    "# This is the url you will scrape in this exercise\n",
    "url = 'http://uscode.house.gov/download/download.shtml'"
   ]
  },
  {
   "cell_type": "code",
   "execution_count": null,
   "metadata": {},
   "outputs": [],
   "source": [
    "#your code\n",
    "htmlUS = requests.get(url).content\n",
    "soupUS = BeautifulSoup(htmlUS, 'lxml')\n",
    "\n",
    "titles_US = soupUS.select('div[class=\"uscitem\"] div[id]')\n",
    "#titles_US\n",
    "titles = [element.text for element in titles_US]\n",
    "titles_US = [element.strip().replace(' ٭','') for element in titles if element.strip().startswith('Title') ]\n",
    "titles_US"
   ]
  },
  {
   "cell_type": "markdown",
   "metadata": {},
   "source": [
    "#### A Python list with the top ten FBI's Most Wanted names "
   ]
  },
  {
   "cell_type": "code",
   "execution_count": null,
   "metadata": {},
   "outputs": [],
   "source": [
    "# This is the url you will scrape in this exercise\n",
    "url = 'https://www.fbi.gov/wanted/topten'"
   ]
  },
  {
   "cell_type": "code",
   "execution_count": null,
   "metadata": {},
   "outputs": [],
   "source": [
    "#your code \n",
    "htmlFBI = requests.get(url).content\n",
    "soupFBI = BeautifulSoup(htmlFBI, 'lxml')\n",
    "\n",
    "mw_list = soupFBI.select('h3[class=\"title\"] a[href]')\n",
    "\n",
    "mostWanted = [mw.text for mw in mw_list]\n",
    "mostWanted"
   ]
  },
  {
   "cell_type": "markdown",
   "metadata": {},
   "source": [
    "####  20 latest earthquakes info (date, time, latitude, longitude and region name) by the EMSC as a pandas dataframe"
   ]
  },
  {
   "cell_type": "code",
   "execution_count": 2,
   "metadata": {},
   "outputs": [],
   "source": [
    "# This is the url you will scrape in this exercise\n",
    "url = 'https://www.emsc-csem.org/Earthquake/'"
   ]
  },
  {
   "cell_type": "code",
   "execution_count": 44,
   "metadata": {
    "collapsed": true
   },
   "outputs": [
    {
     "data": {
      "text/html": [
       "<div>\n",
       "<style scoped>\n",
       "    .dataframe tbody tr th:only-of-type {\n",
       "        vertical-align: middle;\n",
       "    }\n",
       "\n",
       "    .dataframe tbody tr th {\n",
       "        vertical-align: top;\n",
       "    }\n",
       "\n",
       "    .dataframe thead th {\n",
       "        text-align: right;\n",
       "    }\n",
       "</style>\n",
       "<table border=\"1\" class=\"dataframe\">\n",
       "  <thead>\n",
       "    <tr style=\"text-align: right;\">\n",
       "      <th></th>\n",
       "      <th>Date Time</th>\n",
       "      <th>Latitude</th>\n",
       "      <th>longitude</th>\n",
       "      <th>Region</th>\n",
       "    </tr>\n",
       "  </thead>\n",
       "  <tbody>\n",
       "    <tr>\n",
       "      <th>0</th>\n",
       "      <td>2021-05-10   14:36:02.8</td>\n",
       "      <td>(13.96, N)</td>\n",
       "      <td>(144.90, E)</td>\n",
       "      <td>GUAM REGION</td>\n",
       "    </tr>\n",
       "    <tr>\n",
       "      <th>1</th>\n",
       "      <td>2021-05-10   14:13:54.7</td>\n",
       "      <td>(45.71, N)</td>\n",
       "      <td>(26.60, E)</td>\n",
       "      <td>ROMANIA</td>\n",
       "    </tr>\n",
       "    <tr>\n",
       "      <th>2</th>\n",
       "      <td>2021-05-10   14:10:20.1</td>\n",
       "      <td>(29.22, S)</td>\n",
       "      <td>(176.12, W)</td>\n",
       "      <td>KERMADEC ISLANDS REGION</td>\n",
       "    </tr>\n",
       "    <tr>\n",
       "      <th>3</th>\n",
       "      <td>2021-05-10   14:08:41.5</td>\n",
       "      <td>(36.39, N)</td>\n",
       "      <td>(27.10, E)</td>\n",
       "      <td>DODECANESE IS.-TURKEY BORDER REG</td>\n",
       "    </tr>\n",
       "    <tr>\n",
       "      <th>4</th>\n",
       "      <td>2021-05-10   13:46:00.0</td>\n",
       "      <td>(5.25, N)</td>\n",
       "      <td>(125.32, E)</td>\n",
       "      <td>MINDANAO, PHILIPPINES</td>\n",
       "    </tr>\n",
       "    <tr>\n",
       "      <th>5</th>\n",
       "      <td>2021-05-10   13:41:23.0</td>\n",
       "      <td>(16.50, N)</td>\n",
       "      <td>(95.31, W)</td>\n",
       "      <td>OAXACA, MEXICO</td>\n",
       "    </tr>\n",
       "    <tr>\n",
       "      <th>6</th>\n",
       "      <td>2021-05-10   13:00:30.0</td>\n",
       "      <td>(8.93, N)</td>\n",
       "      <td>(84.17, W)</td>\n",
       "      <td>OFF COAST OF COSTA RICA</td>\n",
       "    </tr>\n",
       "    <tr>\n",
       "      <th>7</th>\n",
       "      <td>2021-05-10   12:53:41.0</td>\n",
       "      <td>(2.48, S)</td>\n",
       "      <td>(78.98, W)</td>\n",
       "      <td>ECUADOR</td>\n",
       "    </tr>\n",
       "    <tr>\n",
       "      <th>8</th>\n",
       "      <td>2021-05-10   12:32:52.5</td>\n",
       "      <td>(38.19, N)</td>\n",
       "      <td>(117.86, W)</td>\n",
       "      <td>NEVADA</td>\n",
       "    </tr>\n",
       "    <tr>\n",
       "      <th>9</th>\n",
       "      <td>2021-05-10   12:26:31.0</td>\n",
       "      <td>(4.72, N)</td>\n",
       "      <td>(97.94, E)</td>\n",
       "      <td>NORTHERN SUMATRA, INDONESIA</td>\n",
       "    </tr>\n",
       "    <tr>\n",
       "      <th>10</th>\n",
       "      <td>2021-05-10   12:20:57.2</td>\n",
       "      <td>(19.24, N)</td>\n",
       "      <td>(155.37, W)</td>\n",
       "      <td>ISLAND OF HAWAII, HAWAII</td>\n",
       "    </tr>\n",
       "    <tr>\n",
       "      <th>11</th>\n",
       "      <td>2021-05-10   12:17:16.9</td>\n",
       "      <td>(19.20, N)</td>\n",
       "      <td>(155.42, W)</td>\n",
       "      <td>ISLAND OF HAWAII, HAWAII</td>\n",
       "    </tr>\n",
       "    <tr>\n",
       "      <th>12</th>\n",
       "      <td>2021-05-10   12:16:27.0</td>\n",
       "      <td>(19.12, N)</td>\n",
       "      <td>(69.43, W)</td>\n",
       "      <td>DOMINICAN REPUBLIC REGION</td>\n",
       "    </tr>\n",
       "    <tr>\n",
       "      <th>13</th>\n",
       "      <td>2021-05-10   11:58:18.2</td>\n",
       "      <td>(19.21, N)</td>\n",
       "      <td>(155.42, W)</td>\n",
       "      <td>ISLAND OF HAWAII, HAWAII</td>\n",
       "    </tr>\n",
       "    <tr>\n",
       "      <th>14</th>\n",
       "      <td>2021-05-10   11:52:30.0</td>\n",
       "      <td>(24.12, S)</td>\n",
       "      <td>(69.92, W)</td>\n",
       "      <td>ANTOFAGASTA, CHILE</td>\n",
       "    </tr>\n",
       "    <tr>\n",
       "      <th>15</th>\n",
       "      <td>2021-05-10   11:50:32.0</td>\n",
       "      <td>(18.36, N)</td>\n",
       "      <td>(69.52, W)</td>\n",
       "      <td>DOMINICAN REPUBLIC REGION</td>\n",
       "    </tr>\n",
       "    <tr>\n",
       "      <th>16</th>\n",
       "      <td>2021-05-10   11:48:37.0</td>\n",
       "      <td>(31.21, S)</td>\n",
       "      <td>(70.37, W)</td>\n",
       "      <td>SAN JUAN, ARGENTINA</td>\n",
       "    </tr>\n",
       "    <tr>\n",
       "      <th>17</th>\n",
       "      <td>2021-05-10   11:47:38.0</td>\n",
       "      <td>(23.86, S)</td>\n",
       "      <td>(67.02, W)</td>\n",
       "      <td>JUJUY, ARGENTINA</td>\n",
       "    </tr>\n",
       "    <tr>\n",
       "      <th>18</th>\n",
       "      <td>2021-05-10   11:46:49.0</td>\n",
       "      <td>(32.67, S)</td>\n",
       "      <td>(68.75, W)</td>\n",
       "      <td>MENDOZA, ARGENTINA</td>\n",
       "    </tr>\n",
       "    <tr>\n",
       "      <th>19</th>\n",
       "      <td>2021-05-10   11:43:03.2</td>\n",
       "      <td>(33.38, S)</td>\n",
       "      <td>(179.54, E)</td>\n",
       "      <td>SOUTH OF KERMADEC ISLANDS</td>\n",
       "    </tr>\n",
       "  </tbody>\n",
       "</table>\n",
       "</div>"
      ],
      "text/plain": [
       "                  Date Time    Latitude    longitude  \\\n",
       "0   2021-05-10   14:36:02.8  (13.96, N)  (144.90, E)   \n",
       "1   2021-05-10   14:13:54.7  (45.71, N)   (26.60, E)   \n",
       "2   2021-05-10   14:10:20.1  (29.22, S)  (176.12, W)   \n",
       "3   2021-05-10   14:08:41.5  (36.39, N)   (27.10, E)   \n",
       "4   2021-05-10   13:46:00.0   (5.25, N)  (125.32, E)   \n",
       "5   2021-05-10   13:41:23.0  (16.50, N)   (95.31, W)   \n",
       "6   2021-05-10   13:00:30.0   (8.93, N)   (84.17, W)   \n",
       "7   2021-05-10   12:53:41.0   (2.48, S)   (78.98, W)   \n",
       "8   2021-05-10   12:32:52.5  (38.19, N)  (117.86, W)   \n",
       "9   2021-05-10   12:26:31.0   (4.72, N)   (97.94, E)   \n",
       "10  2021-05-10   12:20:57.2  (19.24, N)  (155.37, W)   \n",
       "11  2021-05-10   12:17:16.9  (19.20, N)  (155.42, W)   \n",
       "12  2021-05-10   12:16:27.0  (19.12, N)   (69.43, W)   \n",
       "13  2021-05-10   11:58:18.2  (19.21, N)  (155.42, W)   \n",
       "14  2021-05-10   11:52:30.0  (24.12, S)   (69.92, W)   \n",
       "15  2021-05-10   11:50:32.0  (18.36, N)   (69.52, W)   \n",
       "16  2021-05-10   11:48:37.0  (31.21, S)   (70.37, W)   \n",
       "17  2021-05-10   11:47:38.0  (23.86, S)   (67.02, W)   \n",
       "18  2021-05-10   11:46:49.0  (32.67, S)   (68.75, W)   \n",
       "19  2021-05-10   11:43:03.2  (33.38, S)  (179.54, E)   \n",
       "\n",
       "                              Region  \n",
       "0                        GUAM REGION  \n",
       "1                            ROMANIA  \n",
       "2            KERMADEC ISLANDS REGION  \n",
       "3   DODECANESE IS.-TURKEY BORDER REG  \n",
       "4              MINDANAO, PHILIPPINES  \n",
       "5                     OAXACA, MEXICO  \n",
       "6            OFF COAST OF COSTA RICA  \n",
       "7                            ECUADOR  \n",
       "8                             NEVADA  \n",
       "9        NORTHERN SUMATRA, INDONESIA  \n",
       "10          ISLAND OF HAWAII, HAWAII  \n",
       "11          ISLAND OF HAWAII, HAWAII  \n",
       "12         DOMINICAN REPUBLIC REGION  \n",
       "13          ISLAND OF HAWAII, HAWAII  \n",
       "14                ANTOFAGASTA, CHILE  \n",
       "15         DOMINICAN REPUBLIC REGION  \n",
       "16               SAN JUAN, ARGENTINA  \n",
       "17                  JUJUY, ARGENTINA  \n",
       "18                MENDOZA, ARGENTINA  \n",
       "19         SOUTH OF KERMADEC ISLANDS  "
      ]
     },
     "execution_count": 44,
     "metadata": {},
     "output_type": "execute_result"
    }
   ],
   "source": [
    "#your code\n",
    "htmlEQ = requests.get(url).content\n",
    "soupEQ = BeautifulSoup(htmlEQ, 'lxml')\n",
    "\n",
    "eq_dt = soupEQ.select('td[class=\"tabev6\"] a[href]')\n",
    "eq_datetime = [eq.text.replace(u'\\xa0',u' ')  for eq in eq_dt]\n",
    "\n",
    "eq_degrees = soupEQ.select('td[class=\"tabev1\"]')\n",
    "eq_latitud  = [eq_degrees[l].text.replace(u'\\xa0',u'') for l in range(len(eq_degrees)) if l%2 == 0 ]\n",
    "eq_longitud = [eq_degrees[l].text.replace(u'\\xa0',u'') for l in range(len(eq_degrees)) if l%2 == 1 ]\n",
    "\n",
    "eq_cardinal = soupEQ.select('td[class=\"tabev2\"]')\n",
    "eq_Cardinals = [eq_cardinal[l].text.replace(u'\\xa0',u'') for l in range(len(eq_cardinal))]\n",
    "eq_latCard = []\n",
    "eq_lonCard = []\n",
    "cont = 0\n",
    "for i in eq_Cardinals:\n",
    "    if cont == 0:\n",
    "        eq_latCard.append(i)\n",
    "        cont += 1\n",
    "    elif cont == 1:\n",
    "        eq_lonCard.append(i)\n",
    "        cont += 1\n",
    "    elif cont == 2:\n",
    "        cont = 0\n",
    "\n",
    "    \n",
    "eq_regions = soupEQ.select('td[class=\"tb_region\"]')\n",
    "eq_regName = [n.text.replace(u'\\xa0',u'') for n in eq_regions]\n",
    "\n",
    "#Generar DF de panda\n",
    "\n",
    "df_earthQuakes = pd.DataFrame(list(zip(eq_datetime,list(zip(eq_latitud,eq_latCard)),list(zip(eq_longitud,eq_lonCard)),eq_regName)),columns=['Date Time','Latitude','longitude','Region'])\n",
    "df_earthQuakes.head(20)"
   ]
  },
  {
   "cell_type": "markdown",
   "metadata": {},
   "source": [
    "#### Display the date, days, title, city, country of next 25 hackathon events as a Pandas dataframe table"
   ]
  },
  {
   "cell_type": "code",
   "execution_count": null,
   "metadata": {},
   "outputs": [],
   "source": [
    "# This is the url you will scrape in this exercise\n",
    "url ='https://hackevents.co/hackathons'"
   ]
  },
  {
   "cell_type": "code",
   "execution_count": null,
   "metadata": {},
   "outputs": [],
   "source": [
    "#your code"
   ]
  },
  {
   "cell_type": "markdown",
   "metadata": {},
   "source": [
    "#### Count number of tweets by a given Twitter account."
   ]
  },
  {
   "cell_type": "markdown",
   "metadata": {},
   "source": [
    "You will need to include a ***try/except block*** for account names not found. \n",
    "<br>***Hint:*** the program should count the number of tweets for any provided account"
   ]
  },
  {
   "cell_type": "code",
   "execution_count": 60,
   "metadata": {},
   "outputs": [],
   "source": [
    "# This is the url you will scrape in this exercise \n",
    "# You will need to add the account credentials to this url\n",
    "url = 'https://twitter.com/'"
   ]
  },
  {
   "cell_type": "code",
   "execution_count": 61,
   "metadata": {},
   "outputs": [],
   "source": [
    "#your code"
   ]
  },
  {
   "cell_type": "markdown",
   "metadata": {},
   "source": [
    "#### Number of followers of a given twitter account"
   ]
  },
  {
   "cell_type": "markdown",
   "metadata": {},
   "source": [
    "You will need to include a ***try/except block*** in case account/s name not found. \n",
    "<br>***Hint:*** the program should count the followers for any provided account"
   ]
  },
  {
   "cell_type": "code",
   "execution_count": null,
   "metadata": {},
   "outputs": [],
   "source": [
    "# This is the url you will scrape in this exercise \n",
    "# You will need to add the account credentials to this url\n",
    "url = 'https://twitter.com/'"
   ]
  },
  {
   "cell_type": "code",
   "execution_count": null,
   "metadata": {},
   "outputs": [],
   "source": [
    "#your code"
   ]
  },
  {
   "cell_type": "markdown",
   "metadata": {},
   "source": [
    "#### List all language names and number of related articles in the order they appear in wikipedia.org"
   ]
  },
  {
   "cell_type": "code",
   "execution_count": null,
   "metadata": {},
   "outputs": [],
   "source": [
    "# This is the url you will scrape in this exercise\n",
    "url = 'https://www.wikipedia.org/'"
   ]
  },
  {
   "cell_type": "code",
   "execution_count": null,
   "metadata": {},
   "outputs": [],
   "source": [
    "#your code"
   ]
  },
  {
   "cell_type": "markdown",
   "metadata": {},
   "source": [
    "#### A list with the different kind of datasets available in data.gov.uk "
   ]
  },
  {
   "cell_type": "code",
   "execution_count": null,
   "metadata": {},
   "outputs": [],
   "source": [
    "# This is the url you will scrape in this exercise\n",
    "url = 'https://data.gov.uk/'"
   ]
  },
  {
   "cell_type": "code",
   "execution_count": null,
   "metadata": {},
   "outputs": [],
   "source": [
    "#your code "
   ]
  },
  {
   "cell_type": "markdown",
   "metadata": {},
   "source": [
    "#### Top 10 languages by number of native speakers stored in a Pandas Dataframe"
   ]
  },
  {
   "cell_type": "code",
   "execution_count": null,
   "metadata": {},
   "outputs": [],
   "source": [
    "# This is the url you will scrape in this exercise\n",
    "url = 'https://en.wikipedia.org/wiki/List_of_languages_by_number_of_native_speakers'"
   ]
  },
  {
   "cell_type": "code",
   "execution_count": null,
   "metadata": {},
   "outputs": [],
   "source": [
    "#your code"
   ]
  },
  {
   "cell_type": "markdown",
   "metadata": {},
   "source": [
    "### BONUS QUESTIONS"
   ]
  },
  {
   "cell_type": "markdown",
   "metadata": {},
   "source": [
    "#### Scrape a certain number of tweets of a given Twitter account."
   ]
  },
  {
   "cell_type": "code",
   "execution_count": null,
   "metadata": {},
   "outputs": [],
   "source": [
    "# This is the url you will scrape in this exercise \n",
    "# You will need to add the account credentials to this url\n",
    "url = 'https://twitter.com/'"
   ]
  },
  {
   "cell_type": "code",
   "execution_count": null,
   "metadata": {},
   "outputs": [],
   "source": [
    "# your code"
   ]
  },
  {
   "cell_type": "markdown",
   "metadata": {},
   "source": [
    "#### IMDB's Top 250 data (movie name, Initial release, director name and stars) as a pandas dataframe"
   ]
  },
  {
   "cell_type": "code",
   "execution_count": null,
   "metadata": {},
   "outputs": [],
   "source": [
    "# This is the url you will scrape in this exercise \n",
    "url = 'https://www.imdb.com/chart/top'"
   ]
  },
  {
   "cell_type": "code",
   "execution_count": null,
   "metadata": {},
   "outputs": [],
   "source": [
    "# your code"
   ]
  },
  {
   "cell_type": "markdown",
   "metadata": {},
   "source": [
    "#### Movie name, year and a brief summary of the top 10 random movies (IMDB) as a pandas dataframe."
   ]
  },
  {
   "cell_type": "code",
   "execution_count": null,
   "metadata": {},
   "outputs": [],
   "source": [
    "#This is the url you will scrape in this exercise\n",
    "url = 'http://www.imdb.com/chart/top'"
   ]
  },
  {
   "cell_type": "code",
   "execution_count": null,
   "metadata": {},
   "outputs": [],
   "source": [
    "#your code"
   ]
  },
  {
   "cell_type": "markdown",
   "metadata": {},
   "source": [
    "#### Find the live weather report (temperature, wind speed, description and weather) of a given city."
   ]
  },
  {
   "cell_type": "code",
   "execution_count": null,
   "metadata": {},
   "outputs": [],
   "source": [
    "#https://openweathermap.org/current\n",
    "city = city=input('Enter the city:')\n",
    "url = 'http://api.openweathermap.org/data/2.5/weather?'+'q='+city+'&APPID=b35975e18dc93725acb092f7272cc6b8&units=metric'"
   ]
  },
  {
   "cell_type": "code",
   "execution_count": null,
   "metadata": {},
   "outputs": [],
   "source": [
    "# your code"
   ]
  },
  {
   "cell_type": "markdown",
   "metadata": {},
   "source": [
    "#### Book name,price and stock availability as a pandas dataframe."
   ]
  },
  {
   "cell_type": "code",
   "execution_count": null,
   "metadata": {},
   "outputs": [],
   "source": [
    "# This is the url you will scrape in this exercise. \n",
    "# It is a fictional bookstore created to be scraped. \n",
    "url = 'http://books.toscrape.com/'"
   ]
  },
  {
   "cell_type": "code",
   "execution_count": null,
   "metadata": {},
   "outputs": [],
   "source": [
    "#your code"
   ]
  }
 ],
 "metadata": {
  "kernelspec": {
   "display_name": "Python 3",
   "language": "python",
   "name": "python3"
  },
  "language_info": {
   "codemirror_mode": {
    "name": "ipython",
    "version": 3
   },
   "file_extension": ".py",
   "mimetype": "text/x-python",
   "name": "python",
   "nbconvert_exporter": "python",
   "pygments_lexer": "ipython3",
   "version": "3.8.5"
  }
 },
 "nbformat": 4,
 "nbformat_minor": 2
}
